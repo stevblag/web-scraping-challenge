{
 "cells": [
  {
   "cell_type": "code",
   "execution_count": 40,
   "metadata": {},
   "outputs": [],
   "source": [
    "# Dependencies\n",
    "from bs4 import BeautifulSoup\n",
    "from splinter import Browser\n",
    "import flask\n",
    "import pandas as pd\n",
    "import requests\n",
    "import os"
   ]
  },
  {
   "cell_type": "markdown",
   "metadata": {},
   "source": [
    "# NASA Mars News"
   ]
  },
  {
   "cell_type": "code",
   "execution_count": 41,
   "metadata": {},
   "outputs": [],
   "source": [
    "executable_path = {'executable_path': '/usr/local/bin/chromedriver'}\n",
    "browser = Browser('chrome', **executable_path, headless=False)"
   ]
  },
  {
   "cell_type": "code",
   "execution_count": 42,
   "metadata": {},
   "outputs": [],
   "source": [
    "news_url = \"https://mars.nasa.gov/news/?page=0&per_page=40&order=publish_date+desc%2Ccreated_at+desc&search=&category=19%2C165%2C184%2C204&blank_scope=Latest\"\n",
    "browser.visit(news_url)"
   ]
  },
  {
   "cell_type": "code",
   "execution_count": 43,
   "metadata": {
    "tags": [
     "outputPrepend"
    ]
   },
   "outputs": [
    {
     "output_type": "stream",
     "name": "stdout",
     "text": "r Name to Mars' campaign, they've been stenciled onto three microchips along with essays from NASA's 'Name the Rover' contest. Next stop: Mars.\n               </div>\n               <div class=\"overlay_arrow\">\n                <img alt=\"More\" src=\"/assets/overlay-arrow.png\"/>\n               </div>\n              </div>\n              <img alt=\"10.9 Million Names Now Aboard NASA's Perseverance Mars Rover\" class=\"img-lazy\" data-lazy=\"/system/news_items/list_view_images/8634_PIA23769-320x240.jpg\" src=\"/assets/loading_320x240.png\"/>\n             </a>\n            </div>\n            <div class=\"content_title\">\n             <a href=\"/news/8634/109-million-names-now-aboard-nasas-perseverance-mars-rover/\">\n              10.9 Million Names Now Aboard NASA's Perseverance Mars Rover\n             </a>\n            </div>\n           </div>\n           <div class=\"slide slick-slide\" index=\"4\" style=\"width: 327px;\">\n            <div class=\"image_and_description_container\">\n             <a href=\"/news/8622/virginia-middle-school-student-earns-honor-of-naming-nasas-next-mars-rover/\">\n              <div class=\"rollover_description\">\n               <div class=\"rollover_description_inner\">\n                NASA chose a seventh-grader from Virginia as winner of the agency's \"Name the Rover\" essay contest. Alexander Mather's entry for \"Perseverance\" was voted tops among 28,000 entries.\n               </div>\n               <div class=\"overlay_arrow\">\n                <img alt=\"More\" src=\"/assets/overlay-arrow.png\"/>\n               </div>\n              </div>\n              <img alt=\"Virginia Middle School Student Earns Honor of Naming NASA's Next Mars Rover\" class=\"img-lazy\" data-lazy=\"/system/news_items/list_view_images/8622_1-PIA23764-RoverNamePlateonMars-320x240.jpg\" src=\"/assets/loading_320x240.png\"/>\n             </a>\n            </div>\n            <div class=\"content_title\">\n             <a href=\"/news/8622/virginia-middle-school-student-earns-honor-of-naming-nasas-next-mars-rover/\">\n              Virginia Middle School Student Earns Honor of Naming NASA's Next Mars Rover\n             </a>\n            </div>\n           </div>\n           <div class=\"slide slick-slide\" index=\"5\" style=\"width: 327px;\">\n            <div class=\"image_and_description_container\">\n             <a href=\"/news/8606/nasa-prepares-for-moon-and-mars-with-new-addition-to-its-deep-space-network/\">\n              <div class=\"rollover_description\">\n               <div class=\"rollover_description_inner\">\n                Robotic spacecraft will be able to communicate with the dish using radio waves and lasers.\n               </div>\n               <div class=\"overlay_arrow\">\n                <img alt=\"More\" src=\"/assets/overlay-arrow.png\"/>\n               </div>\n              </div>\n              <img alt=\"NASA Prepares for Moon and Mars With New Addition to Its Deep Space Network\" class=\"img-lazy\" data-lazy=\"/system/news_items/list_view_images/8606_list_image.jpg\" src=\"/assets/loading_320x240.png\"/>\n             </a>\n            </div>\n            <div class=\"content_title\">\n             <a href=\"/news/8606/nasa-prepares-for-moon-and-mars-with-new-addition-to-its-deep-space-network/\">\n              NASA Prepares for Moon and Mars With New Addition to Its Deep Space Network\n             </a>\n            </div>\n           </div>\n           <div class=\"slide slick-slide slick-cloned\" index=\"6\" style=\"width: 327px;\">\n            <div class=\"image_and_description_container\">\n             <a href=\"/news/8659/alabama-high-school-student-names-nasas-mars-helicopter/\">\n              <div class=\"rollover_description\">\n               <div class=\"rollover_description_inner\">\n                Vaneeza Rupani's essay was chosen as the name for the small spacecraft, which will mark NASA's first attempt at powered flight on another planet.\n               </div>\n               <div class=\"overlay_arrow\">\n                <img alt=\"More\" src=\"/assets/overlay-arrow.png\"/>\n               </div>\n              </div>\n              <img alt=\"Alabama High School Student Names NASA's Mars Helicopter\" class=\"img-lazy\" src=\"/system/news_items/list_view_images/8659_1-PIA23883-MAIN-320x240.jpg?1591383158210\" style=\"opacity: 0.84;\"/>\n             </a>\n            </div>\n            <div class=\"content_title\">\n             <a href=\"/news/8659/alabama-high-school-student-names-nasas-mars-helicopter/\">\n              Alabama High School Student Names NASA's Mars Helicopter\n             </a>\n            </div>\n           </div>\n           <div class=\"slide slick-slide slick-cloned\" index=\"7\" style=\"width: 327px;\">\n            <div class=\"image_and_description_container\">\n             <a href=\"/news/8645/mars-helicopter-attached-to-nasas-perseverance-rover/\">\n              <div class=\"rollover_description\">\n               <div class=\"rollover_description_inner\">\n                The team also fueled the rover's sky crane to get ready for this summer's history-making launch.\n               </div>\n               <div class=\"overlay_arrow\">\n                <img alt=\"More\" src=\"/assets/overlay-arrow.png\"/>\n               </div>\n              </div>\n              <img alt=\"Mars Helicopter Attached to NASA's Perseverance Rover\" class=\"img-lazy\" src=\"/system/news_items/list_view_images/8645_PIA23824-RoverWithHelicopter-32x24.jpg?1591383158211\" style=\"opacity: 0.8064;\"/>\n             </a>\n            </div>\n            <div class=\"content_title\">\n             <a href=\"/news/8645/mars-helicopter-attached-to-nasas-perseverance-rover/\">\n              Mars Helicopter Attached to NASA's Perseverance Rover\n             </a>\n            </div>\n           </div>\n           <div class=\"slide slick-slide slick-cloned\" index=\"8\" style=\"width: 327px;\">\n            <div class=\"image_and_description_container\">\n             <a href=\"/news/8641/nasas-perseverance-mars-rover-gets-its-wheels-and-air-brakes/\">\n              <div class=\"rollover_description\">\n               <div class=\"rollover_description_inner\">\n                After the rover was shipped from JPL to Kennedy Space Center, the team is getting closer to finalizing the spacecraft for launch later this summer.\n               </div>\n               <div class=\"overlay_arrow\">\n                <img alt=\"More\" src=\"/assets/overlay-arrow.png\"/>\n               </div>\n              </div>\n              <img alt=\"NASA's Perseverance Mars Rover Gets Its Wheels and Air Brakes\" class=\"img-lazy\" src=\"/system/news_items/list_view_images/8641_PIA-23821-320x240.jpg?1591383158211\" style=\"opacity: 0.8064;\"/>\n             </a>\n            </div>\n            <div class=\"content_title\">\n             <a href=\"/news/8641/nasas-perseverance-mars-rover-gets-its-wheels-and-air-brakes/\">\n              NASA's Perseverance Mars Rover Gets Its Wheels and Air Brakes\n             </a>\n            </div>\n           </div>\n          </div>\n         </div>\n         <div class=\"grid_layout\">\n          <div class=\"slick-nav_container\">\n           <div class=\"slick-nav\">\n            <button class=\"slick-prev\" data-role=\"none\" style=\"display: block;\" type=\"button\">\n             Previous\n            </button>\n            <button class=\"slick-next\" data-role=\"none\" style=\"display: block;\" type=\"button\">\n             Next\n            </button>\n           </div>\n          </div>\n         </div>\n        </div>\n       </section>\n      </div>\n     </section>\n    </div>\n    <footer id=\"site_footer\">\n     <div class=\"grid_layout\">\n      <section class=\"upper_footer\">\n       <div class=\"share_newsletter_container\">\n        <div class=\"newsletter\">\n         <h2>\n          Get the Mars Newsletter\n         </h2>\n         <form action=\"/newsletter-subscribe\">\n          <input id=\"email\" name=\"email\" placeholder=\"enter email address\" type=\"email\" value=\"\"/>\n          <input data-disable-with=\"\" name=\"commit\" type=\"submit\" value=\"\"/>\n         </form>\n        </div>\n        <div class=\"share\">\n         <h2>\n          Follow the Journey\n         </h2>\n         <div class=\"social_icons\">\n          <!-- AddThis Button BEGIN -->\n          <div class=\"addthis_toolbox addthis_default_style addthis_32x32_style\">\n           <a addthis:userid=\"MarsCuriosity\" class=\"addthis_button_twitter_follow icon\">\n            <img alt=\"twitter\" src=\"/assets/twitter_icon@2x.png\"/>\n           </a>\n           <a addthis:userid=\"MarsCuriosity\" class=\"addthis_button_facebook_follow icon\">\n            <img alt=\"facebook\" src=\"/assets/facebook_icon@2x.png\"/>\n           </a>\n           <a addthis:userid=\"nasa\" class=\"addthis_button_instagram_follow icon\">\n            <img alt=\"instagram\" src=\"/assets/instagram_icon@2x.png\"/>\n           </a>\n           <a addthis:url=\"https://mars.nasa.gov/rss/api/?feed=news&amp;category=all&amp;feedtype=rss\" class=\"addthis_button_rss_follow icon\">\n            <img alt=\"rss\" src=\"/assets/rss_icon@2x.png\"/>\n           </a>\n          </div>\n         </div>\n         <script src=\"//s7.addthis.com/js/300/addthis_widget.js#pubid=ra-5a690e4c1320e328\">\n         </script>\n        </div>\n       </div>\n       <div class=\"gradient_line\">\n       </div>\n      </section>\n      <section class=\"sitemap\">\n       <div class=\"sitemap_directory\" id=\"sitemap_directory\" style=\"position: relative; height: 339.516px;\">\n        <div class=\"sitemap_block\" style=\"position: absolute; left: 0px; top: 0px;\">\n         <div class=\"footer_sitemap_item\">\n          <h3 class=\"sitemap_title\">\n           <a href=\"/#red_planet\">\n            The Red Planet\n           </a>\n          </h3>\n          <ul>\n           <li>\n            <div class=\"global_subnav_container\">\n             <ul class=\"subnav\">\n              <li>\n               <a href=\"/#red_planet/0\" target=\"_self\">\n                Dashboard\n               </a>\n              </li>\n              <li>\n               <a href=\"/#red_planet/1\" target=\"_self\">\n                Science Goals\n               </a>\n              </li>\n              <li>\n               <a href=\"/#red_planet/2\" target=\"_self\">\n                The Planet\n               </a>\n              </li>\n              <li>\n               <a href=\"/#red_planet/3\" target=\"_self\">\n                Atmosphere\n               </a>\n              </li>\n              <li>\n               <a href=\"/#red_planet/4\" target=\"_self\">\n                Astrobiology\n               </a>\n              </li>\n              <li>\n               <a href=\"/#red_planet/5\" target=\"_self\">\n                Past, Present, Future, Timeline\n               </a>\n              </li>\n             </ul>\n            </div>\n           </li>\n          </ul>\n         </div>\n        </div>\n        <div class=\"sitemap_block\" style=\"position: absolute; left: 191px; top: 0px;\">\n         <div class=\"footer_sitemap_item\">\n          <h3 class=\"sitemap_title\">\n           <a href=\"/#mars_exploration_program\">\n            The Program\n           </a>\n          </h3>\n          <ul>\n           <li>\n            <div class=\"global_subnav_container\">\n             <ul class=\"subnav\">\n              <li>\n               <a href=\"/#mars_exploration_program/0\" target=\"_self\">\n                Mission Statement\n               </a>\n              </li>\n              <li>\n               <a href=\"/#mars_exploration_program/1\" target=\"_self\">\n                About the Program\n               </a>\n              </li>\n              <li>\n               <a href=\"/#mars_exploration_program/2\" target=\"_self\">\n                Organization\n               </a>\n              </li>\n              <li>\n               <a href=\"/#mars_exploration_program/3\" target=\"_self\">\n                Why Mars?\n               </a>\n              </li>\n              <li>\n               <a href=\"/#mars_exploration_program/4\" target=\"_self\">\n                Research Programs\n               </a>\n              </li>\n              <li>\n               <a href=\"/#mars_exploration_program/5\" target=\"_self\">\n                Planetary Resources\n               </a>\n              </li>\n              <li>\n               <a href=\"/#mars_exploration_program/6\" target=\"_self\">\n                Technologies\n               </a>\n              </li>\n             </ul>\n            </div>\n           </li>\n          </ul>\n         </div>\n        </div>\n        <div class=\"sitemap_block\" style=\"position: absolute; left: 383px; top: 0px;\">\n         <div class=\"footer_sitemap_item\">\n          <h3 class=\"sitemap_title\">\n           <a href=\"/#news_and_events\">\n            News &amp; Events\n           </a>\n          </h3>\n          <ul>\n           <li>\n            <div class=\"global_subnav_container\">\n             <ul class=\"subnav\">\n              <li>\n               <a href=\"/news\" target=\"_self\">\n                News\n               </a>\n              </li>\n              <li>\n               <a href=\"/events\" target=\"_self\">\n                Events\n               </a>\n              </li>\n             </ul>\n            </div>\n           </li>\n          </ul>\n         </div>\n        </div>\n        <div class=\"sitemap_block\" style=\"position: absolute; left: 574px; top: 0px;\">\n         <div class=\"footer_sitemap_item\">\n          <h3 class=\"sitemap_title\">\n           <a href=\"/#multimedia\">\n            Multimedia\n           </a>\n          </h3>\n          <ul>\n           <li>\n            <div class=\"global_subnav_container\">\n             <ul class=\"subnav\">\n              <li>\n               <a href=\"/multimedia/images/\" target=\"_self\">\n                Images\n               </a>\n              </li>\n              <li>\n               <a href=\"/multimedia/videos/\" target=\"_self\">\n                Videos\n               </a>\n              </li>\n              <li>\n               <a href=\"/multimedia/more-resources/\" target=\"_self\">\n                More Resources\n               </a>\n              </li>\n             </ul>\n            </div>\n           </li>\n          </ul>\n         </div>\n        </div>\n        <div class=\"sitemap_block\" style=\"position: absolute; left: 766px; top: 0px;\">\n         <div class=\"footer_sitemap_item\">\n          <h3 class=\"sitemap_title\">\n           <a href=\"/#missions_gallery_subnav\">\n            Missions\n           </a>\n          </h3>\n          <ul>\n           <li>\n            <div class=\"global_subnav_container\">\n             <ul class=\"subnav\">\n              <li>\n               <a href=\"/mars-exploration/missions/?category=167\" target=\"_self\">\n                Past\n               </a>\n              </li>\n              <li>\n               <a href=\"/mars-exploration/missions/?category=170\" target=\"_self\">\n                Present\n               </a>\n              </li>\n              <li>\n               <a href=\"/mars-exploration/missions/?category=171\" target=\"_self\">\n                Future\n               </a>\n              </li>\n              <li>\n               <a href=\"/mars-exploration/partners\" target=\"_self\">\n                International Partners\n               </a>\n              </li>\n             </ul>\n            </div>\n           </li>\n          </ul>\n         </div>\n        </div>\n        <div class=\"sitemap_block\" style=\"position: absolute; left: 957px; top: 0px;\">\n         <div class=\"footer_sitemap_item\">\n          <h3 class=\"sitemap_title\">\n           <a href=\"/#more\">\n            More\n           </a>\n          </h3>\n          <ul>\n           <li>\n            <div class=\"global_subnav_container\">\n             <ul class=\"subnav\">\n             </ul>\n            </div>\n           </li>\n          </ul>\n         </div>\n        </div>\n       </div>\n       <div class=\"gradient_line\">\n       </div>\n      </section>\n      <section class=\"lower_footer\">\n       <div class=\"nav_container\">\n        <nav>\n         <ul>\n          <li>\n           <a href=\"http://science.nasa.gov/\" target=\"_blank\">\n            NASA Science Mission Directorate\n           </a>\n          </li>\n          <li>\n           <a href=\"https://www.jpl.nasa.gov/copyrights.php\" target=\"_blank\">\n            Privacy\n           </a>\n          </li>\n          <li>\n           <a href=\"http://www.jpl.nasa.gov/imagepolicy/\" target=\"_blank\">\n            Image Policy\n           </a>\n          </li>\n          <li>\n           <a href=\"https://mars.nasa.gov/feedback/\" target=\"_self\">\n            Feedback\n           </a>\n          </li>\n         </ul>\n        </nav>\n       </div>\n       <div class=\"credits\">\n        <div class=\"footer_brands_top\">\n         <p>\n          Managed by the Mars Exploration Program and the Jet Propulsion Laboratory for NASA’s Science Mission Directorate\n         </p>\n        </div>\n        <!-- .footer_brands -->\n        <!-- %a.jpl{href: \"\", target: \"_blank\"}Institution -->\n        <!-- -->\n        <!-- %a.caltech{href: \"\", target: \"_blank\"}Institution -->\n        <!-- .staff -->\n        <!-- %p -->\n        <!-- - get_staff_for_category(get_field_from_admin_config(:web_staff_category_id)) -->\n        <!-- - @staff.each_with_index do |staff, idx| -->\n        <!-- - unless staff.is_in_footer == 0 -->\n        <!-- = staff.title + \": \" -->\n        <!-- - if staff.contact_link =~ /@/ -->\n        <!-- = mail_to staff.contact_link, staff.name, :subject => \"[#{@site_title}]\" -->\n        <!-- - elsif staff.contact_link.present? -->\n        <!-- = link_to staff.name, staff.contact_link -->\n        <!-- - else -->\n        <!-- = staff.name -->\n        <!-- - unless (idx + 1 == @staff.size) -->\n        <!-- %br -->\n       </div>\n      </section>\n     </div>\n    </footer>\n   </div>\n  </div>\n  <div id=\"_atssh\" style=\"visibility: hidden; height: 1px; width: 1px; position: absolute; top: -9999px; z-index: 100000;\">\n   <iframe id=\"_atssh485\" src=\"https://s7.addthis.com/static/sh.f48a1a04fe8dbf021b4cda1d.html#rand=0.059129718187899805&amp;iit=1591383158266&amp;tmr=load%3D1591383158124%26core%3D1591383158154%26main%3D1591383158262%26ifr%3D1591383158269&amp;cb=0&amp;cdn=0&amp;md=0&amp;kw=Mars%2Cmissions%2CNASA%2Crover%2CCuriosity%2COpportunity%2CInSight%2CMars%20Reconnaissance%20Orbiter%2Cfacts&amp;ab=-&amp;dh=mars.nasa.gov&amp;dr=&amp;du=https%3A%2F%2Fmars.nasa.gov%2Fnews%2F%3Fpage%3D0%26per_page%3D40%26order%3Dpublish_date%2Bdesc%252Ccreated_at%2Bdesc%26search%3D%26category%3D19%252C165%252C184%252C204%26blank_scope%3DLatest&amp;href=https%3A%2F%2Fmars.nasa.gov%2Fnews%2F&amp;dt=News%20%20%E2%80%93%20NASA%E2%80%99s%20Mars%20Exploration%20Program&amp;dbg=0&amp;cap=tc%3D0%26ab%3D0&amp;inst=1&amp;jsl=1&amp;prod=undefined&amp;lng=en&amp;ogt=image%2Cupdated_time%2Ctype%3Darticle%2Curl%2Ctitle%2Cdescription%2Csite_name&amp;pc=men&amp;pub=ra-5a690e4c1320e328&amp;ssl=1&amp;sid=5eda94762febc9cf&amp;srf=0.01&amp;ver=300&amp;xck=1&amp;xtr=0&amp;og=site_name%3DNASA%25E2%2580%2599s%2520Mars%2520Exploration%2520Program%26description%3DNASA%25E2%2580%2599s%2520real-time%2520portal%2520for%2520Mars%2520exploration%252C%2520featuring%2520the%2520latest%2520news%252C%2520images%252C%2520and%2520discoveries%2520from%2520the%2520Red%2520Planet.%26title%3DNews%2520%2520%25E2%2580%2593%2520NASA%25E2%2580%2599s%2520Mars%2520Exploration%2520Program%26url%3Dhttps%253A%252F%252Fmars.nasa.gov%252Fnews%253Fpage%253D0%2526per_page%253D40%2526order%253Dpublish_date%252Bdesc%25252Ccreated_at%252Bdesc%2526search%253D%2526category%253D19%25252C165%25252C184%25252C204%2526blank_scope%253DLatest%26type%3Darticle%26updated_time%3D2017-09-22%252019%253A53%253A22%2520UTC%26image%3Dhttps%253A%252F%252Fmars.nasa.gov%252Fsystem%252Fsite_config_values%252Fmeta_share_images%252F1_142497main_PIA03154-200.jpg&amp;csi=undefined&amp;rev=v8.28.6-wp&amp;ct=1&amp;xld=1&amp;xd=1\" style=\"height: 1px; width: 1px; position: absolute; top: 0px; z-index: 100000; border: 0px; left: 0px;\" title=\"AddThis utility frame\">\n   </iframe>\n  </div>\n  <style id=\"service-icons-0\">\n  </style>\n  <script id=\"_fed_an_ua_tag\" src=\"https://dap.digitalgov.gov/Universal-Federated-Analytics-Min.js?agency=NASA&amp;subagency=JPL-Mars-MEPJPL&amp;pua=UA-9453474-9,UA-118212757-11&amp;dclink=true&amp;sp=searchbox&amp;exts=tif,tiff,wav\" type=\"text/javascript\">\n  </script>\n </body>\n</html>\n"
    }
   ],
   "source": [
    "html = browser.html\n",
    "soup = BeautifulSoup(html, 'html.parser')\n",
    "print(soup.prettify())"
   ]
  },
  {
   "cell_type": "code",
   "execution_count": 56,
   "metadata": {},
   "outputs": [
    {
     "output_type": "stream",
     "name": "stdout",
     "text": "\n\t\t\t\t\t\t\t\t\t\t  Patapsco Vallis\n\t\t\t\t\t\t\t\t\t\t\nJune 2, 2020\n"
    }
   ],
   "source": [
    "news_title = soup.find(\"li\", class_=\"slide\").find(\"div\", class_=\"content_title\").text\n",
    "print(news_title)\n",
    "news_p = soup.find(\"li\", class_=\"slide\").find(\"div\", class_=\"article_teaser_body\").text\n",
    "print(news_p)"
   ]
  },
  {
   "cell_type": "markdown",
   "metadata": {},
   "source": [
    "# JPL Mars Space Images - Featured Image"
   ]
  },
  {
   "cell_type": "code",
   "execution_count": 45,
   "metadata": {},
   "outputs": [],
   "source": [
    "jpl_url = \"https://www.jpl.nasa.gov/spaceimages/?search=&category=Mars\"\n",
    "browser.visit(jpl_url)"
   ]
  },
  {
   "cell_type": "code",
   "execution_count": 46,
   "metadata": {},
   "outputs": [],
   "source": [
    "html = browser.html\n",
    "soup = BeautifulSoup(html, 'html.parser')"
   ]
  },
  {
   "cell_type": "code",
   "execution_count": 47,
   "metadata": {},
   "outputs": [
    {
     "output_type": "execute_result",
     "data": {
      "text/plain": "'https://www.jpl.nasa.gov/spaceimages/images/wallpaper/PIA22911-1920x1200.jpg'"
     },
     "metadata": {},
     "execution_count": 47
    }
   ],
   "source": [
    "featured_img_base = \"https://www.jpl.nasa.gov\"\n",
    "featured_img_url_raw = soup.find(\"div\", class_=\"carousel_items\").find(\"article\")[\"style\"]\n",
    "featured_img_url = featured_img_url_raw.split(\"'\")[1]\n",
    "featured_img_url = featured_img_base + featured_img_url\n",
    "featured_img_url"
   ]
  },
  {
   "cell_type": "markdown",
   "metadata": {},
   "source": [
    "# Mars Weather"
   ]
  },
  {
   "cell_type": "code",
   "execution_count": 48,
   "metadata": {},
   "outputs": [],
   "source": [
    "executable_path = {'executable_path': '/usr/local/bin/chromedriver'}\n",
    "browser = Browser(\"chrome\", **executable_path, headless=False)\n",
    "\n",
    "weather_url = \"https://twitter.com/marswxreport?lang=en\"\n",
    "browser.visit(weather_url)"
   ]
  },
  {
   "cell_type": "code",
   "execution_count": 49,
   "metadata": {},
   "outputs": [
    {
     "output_type": "stream",
     "name": "stdout",
     "text": "<div style=\"font-size: 18px; font-family: Helvetica,sans-serif; line-height: 24px; margin: 10%; width: 80%;\">\n<p>We've detected that JavaScript is disabled in your browser. Would you like to proceed to legacy Twitter?</p>\n<p style=\"margin: 20px 0;\">\n<button style=\"background-color: #1da1f2; border-radius: 100px; border: none; box-shadow: none; color: #fff; cursor: pointer; font-size: 14px; font-weight: bold; line-height: 20px; padding: 6px 16px;\" type=\"submit\">Yes</button>\n</p>\n</div>\n"
    },
    {
     "output_type": "execute_result",
     "data": {
      "text/plain": "'submit'"
     },
     "metadata": {},
     "execution_count": 49
    }
   ],
   "source": [
    "html = browser.html\n",
    "weather_soup = BeautifulSoup(html, 'html.parser')\n",
    "print(weather_soup.find('div'))\n",
    "\"submit\""
   ]
  },
  {
   "cell_type": "code",
   "execution_count": 77,
   "metadata": {},
   "outputs": [],
   "source": [
    "# Dependencies\n",
    "import pandas as pd\n",
    "from splinter import Browser\n",
    "from bs4 import BeautifulSoup\n",
    "\n",
    "def init_browser():\n",
    "    executable_path = {\"executable_path\": \"/usr/local/bin/chromedriver\"}\n",
    "    return Browser(\"chrome\", **executable_path, headless=False)\n",
    "\n",
    "browser = init_browser()\n",
    "\n",
    "# Mars Weather twitter \n",
    "weather_url = \"https://twitter.com/marswxreport?lang=en\"\n",
    "browser.visit(weather_url)\n",
    "\n",
    "# HTML object\n",
    "html = browser.html\n",
    "\n",
    "# Parse HTML w/ Beautiful Soup\n",
    "weather_soup = BeautifulSoup(html, \"html.parser\")"
   ]
  },
  {
   "cell_type": "code",
   "execution_count": 79,
   "metadata": {},
   "outputs": [],
   "source": [
    "# Find all elements that contain tweets\n",
    "latest_tweets = soup.find_all('div', class_='js-tweet-text-container')\n",
    "\n",
    "# Retrieve all elements that contain news title in the specified range & look weather related words\n",
    "for tweet in latest_tweets: \n",
    "    mars_weather = tweet.find('p').text\n",
    "    if 'Sol' and 'pressure' in mars_weather:\n",
    "        print(mars_weather)\n",
    "        break\n",
    "    else: \n",
    "        pass"
   ]
  },
  {
   "cell_type": "markdown",
   "metadata": {},
   "source": [
    "# Mars Facts"
   ]
  },
  {
   "cell_type": "code",
   "execution_count": 52,
   "metadata": {},
   "outputs": [],
   "source": [
    "import pandas as pd\n",
    "\n",
    "facts_url = \"https://space-facts.com/mars/\"\n",
    "tables = pd.read_html(facts_url)"
   ]
  },
  {
   "cell_type": "code",
   "execution_count": 53,
   "metadata": {},
   "outputs": [
    {
     "output_type": "execute_result",
     "data": {
      "text/plain": "                                             Value\nFact                                              \nEquatorial Diameter                       6,792 km\nPolar Diameter                            6,752 km\nMass                 6.39 × 10^23 kg (0.11 Earths)\nMoons                          2 (Phobos & Deimos)\nOrbit Distance            227,943,824 km (1.38 AU)\nOrbit Period                  687 days (1.9 years)\nSurface Temperature                   -87 to -5 °C\nFirst Record                     2nd millennium BC\nRecorded By                   Egyptian astronomers",
      "text/html": "<div>\n<style scoped>\n    .dataframe tbody tr th:only-of-type {\n        vertical-align: middle;\n    }\n\n    .dataframe tbody tr th {\n        vertical-align: top;\n    }\n\n    .dataframe thead th {\n        text-align: right;\n    }\n</style>\n<table border=\"1\" class=\"dataframe\">\n  <thead>\n    <tr style=\"text-align: right;\">\n      <th></th>\n      <th>Value</th>\n    </tr>\n    <tr>\n      <th>Fact</th>\n      <th></th>\n    </tr>\n  </thead>\n  <tbody>\n    <tr>\n      <td>Equatorial Diameter</td>\n      <td>6,792 km</td>\n    </tr>\n    <tr>\n      <td>Polar Diameter</td>\n      <td>6,752 km</td>\n    </tr>\n    <tr>\n      <td>Mass</td>\n      <td>6.39 × 10^23 kg (0.11 Earths)</td>\n    </tr>\n    <tr>\n      <td>Moons</td>\n      <td>2 (Phobos &amp; Deimos)</td>\n    </tr>\n    <tr>\n      <td>Orbit Distance</td>\n      <td>227,943,824 km (1.38 AU)</td>\n    </tr>\n    <tr>\n      <td>Orbit Period</td>\n      <td>687 days (1.9 years)</td>\n    </tr>\n    <tr>\n      <td>Surface Temperature</td>\n      <td>-87 to -5 °C</td>\n    </tr>\n    <tr>\n      <td>First Record</td>\n      <td>2nd millennium BC</td>\n    </tr>\n    <tr>\n      <td>Recorded By</td>\n      <td>Egyptian astronomers</td>\n    </tr>\n  </tbody>\n</table>\n</div>"
     },
     "metadata": {},
     "execution_count": 53
    }
   ],
   "source": [
    "facts_df = tables[0]\n",
    "facts_df.columns = [\"Fact\",\"Value\"]\n",
    "\n",
    "# get rid of trailing colon\n",
    "facts_df[\"Fact\"] = facts_df[\"Fact\"].str[:-1]\n",
    "facts_df = facts_df.set_index(\"Fact\")\n",
    "facts_df"
   ]
  },
  {
   "cell_type": "code",
   "execution_count": 54,
   "metadata": {},
   "outputs": [
    {
     "output_type": "execute_result",
     "data": {
      "text/plain": "'<table border=\"1\" class=\"dataframe\">  <thead>    <tr style=\"text-align: right;\">      <th></th>      <th>Value</th>    </tr>    <tr>      <th>Fact</th>      <th></th>    </tr>  </thead>  <tbody>    <tr>      <th>Equatorial Diameter</th>      <td>6,792 km</td>    </tr>    <tr>      <th>Polar Diameter</th>      <td>6,752 km</td>    </tr>    <tr>      <th>Mass</th>      <td>6.39 × 10^23 kg (0.11 Earths)</td>    </tr>    <tr>      <th>Moons</th>      <td>2 (Phobos &amp; Deimos)</td>    </tr>    <tr>      <th>Orbit Distance</th>      <td>227,943,824 km (1.38 AU)</td>    </tr>    <tr>      <th>Orbit Period</th>      <td>687 days (1.9 years)</td>    </tr>    <tr>      <th>Surface Temperature</th>      <td>-87 to -5 °C</td>    </tr>    <tr>      <th>First Record</th>      <td>2nd millennium BC</td>    </tr>    <tr>      <th>Recorded By</th>      <td>Egyptian astronomers</td>    </tr>  </tbody></table>'"
     },
     "metadata": {},
     "execution_count": 54
    }
   ],
   "source": [
    "facts_html_table = facts_df.to_html()\n",
    "facts_html_table = facts_html_table.replace('\\n', '')\n",
    "facts_html_table"
   ]
  },
  {
   "cell_type": "markdown",
   "metadata": {},
   "source": [
    "# Mars hemispheres photo scraping"
   ]
  },
  {
   "cell_type": "code",
   "execution_count": 55,
   "metadata": {},
   "outputs": [],
   "source": [
    "from bs4 import BeautifulSoup\n",
    "from splinter import Browser\n",
    "\n",
    "executable_path = {'executable_path': '/usr/local/bin/chromedriver'}\n",
    "browser = Browser('chrome', **executable_path, headless=False)\n",
    "\n",
    "base_hemisphere_url = \"https://astrogeology.usgs.gov\"\n",
    "hemisphere_url = \"https://astrogeology.usgs.gov/search/results?q=hemisphere+enhanced&k1=target&v1=Mars\"\n",
    "browser.visit(hemisphere_url)"
   ]
  },
  {
   "cell_type": "code",
   "execution_count": 57,
   "metadata": {},
   "outputs": [
    {
     "output_type": "stream",
     "name": "stdout",
     "text": "https://astrogeology.usgs.gov/cache/images/f5e372a36edfa389625da6d0cc25d905_cerberus_enhanced.tif_full.jpg\nhttps://astrogeology.usgs.gov/cache/images/3778f7b43bbbc89d6e3cfabb3613ba93_schiaparelli_enhanced.tif_full.jpg\nhttps://astrogeology.usgs.gov/cache/images/555e6403a6ddd7ba16ddb0e471cadcf7_syrtis_major_enhanced.tif_full.jpg\nhttps://astrogeology.usgs.gov/cache/images/b3c7c6c9138f57b4756be9b9c43e3a48_valles_marineris_enhanced.tif_full.jpg\n"
    }
   ],
   "source": [
    "html = browser.html\n",
    "soup = BeautifulSoup(html, 'html.parser')\n",
    "    \n",
    "hemisphere_image_urls = []\n",
    "\n",
    "links = soup.find_all(\"div\", class_=\"item\")\n",
    "\n",
    "for link in links:\n",
    "    img_dict = {}\n",
    "    title = link.find(\"h3\").text\n",
    "    next_link = link.find(\"div\", class_=\"description\").a[\"href\"]\n",
    "    full_next_link = base_hemisphere_url + next_link\n",
    "    \n",
    "    browser.visit(full_next_link)\n",
    "    \n",
    "    pic_html = browser.html\n",
    "    pic_soup = BeautifulSoup(pic_html, 'html.parser')\n",
    "    \n",
    "    url = pic_soup.find(\"img\", class_=\"wide-image\")[\"src\"]\n",
    "\n",
    "    img_dict[\"title\"] = title\n",
    "    img_dict[\"img_url\"] = base_hemisphere_url + url\n",
    "    print(img_dict[\"img_url\"])\n",
    "    \n",
    "    hemisphere_image_urls.append(img_dict)"
   ]
  },
  {
   "cell_type": "code",
   "execution_count": 58,
   "metadata": {},
   "outputs": [
    {
     "output_type": "execute_result",
     "data": {
      "text/plain": "[{'title': 'Cerberus Hemisphere Enhanced',\n  'img_url': 'https://astrogeology.usgs.gov/cache/images/f5e372a36edfa389625da6d0cc25d905_cerberus_enhanced.tif_full.jpg'},\n {'title': 'Schiaparelli Hemisphere Enhanced',\n  'img_url': 'https://astrogeology.usgs.gov/cache/images/3778f7b43bbbc89d6e3cfabb3613ba93_schiaparelli_enhanced.tif_full.jpg'},\n {'title': 'Syrtis Major Hemisphere Enhanced',\n  'img_url': 'https://astrogeology.usgs.gov/cache/images/555e6403a6ddd7ba16ddb0e471cadcf7_syrtis_major_enhanced.tif_full.jpg'},\n {'title': 'Valles Marineris Hemisphere Enhanced',\n  'img_url': 'https://astrogeology.usgs.gov/cache/images/b3c7c6c9138f57b4756be9b9c43e3a48_valles_marineris_enhanced.tif_full.jpg'}]"
     },
     "metadata": {},
     "execution_count": 58
    }
   ],
   "source": [
    "hemisphere_image_urls"
   ]
  },
  {
   "cell_type": "code",
   "execution_count": null,
   "metadata": {},
   "outputs": [],
   "source": []
  }
 ],
 "metadata": {
  "kernelspec": {
   "display_name": "Python 3.7.4 64-bit",
   "language": "python",
   "name": "python37464bit427e03a5bfb642b6a5576b76ad6c9e93"
  },
  "language_info": {
   "codemirror_mode": {
    "name": "ipython",
    "version": 3
   },
   "file_extension": ".py",
   "mimetype": "text/x-python",
   "name": "python",
   "nbconvert_exporter": "python",
   "pygments_lexer": "ipython3",
   "version": "3.7.4-final"
  }
 },
 "nbformat": 4,
 "nbformat_minor": 4
}